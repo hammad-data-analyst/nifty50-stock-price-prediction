{
 "cells": [
  {
   "cell_type": "markdown",
   "id": "8b162a7d",
   "metadata": {},
   "source": [
    "# Nifty - 50 stock price prediction"
   ]
  },
  {
   "cell_type": "markdown",
   "id": "b505215f",
   "metadata": {},
   "source": [
    "## Input & Training"
   ]
  },
  {
   "cell_type": "markdown",
   "id": "e5cb1387",
   "metadata": {},
   "source": [
    "### Scrape the daily data of all stocks in NIFTY - 50 for the last 4 years."
   ]
  },
  {
   "cell_type": "code",
   "execution_count": 1,
   "id": "9f61ba44",
   "metadata": {},
   "outputs": [],
   "source": [
    "# importing required modules to collect stock details\n",
    "\n",
    "from datetime import date\n",
    "import datetime\n",
    "from jugaad_data.nse import bhavcopy_save, bhavcopy_fo_save\n",
    "\n",
    "from jugaad_data.nse import stock_df\n",
    "\n",
    "# importing required modules to analyse and connect google sheet\n",
    "\n",
    "import pandas as pd\n",
    "import gspread\n",
    "import pandasql as ps\n",
    "import numpy as np\n",
    "from datetime import datetime\n",
    "\n",
    "import matplotlib.pyplot as plt\n",
    "import seaborn as sb\n",
    "import warnings\n",
    "warnings.filterwarnings('ignore')\n",
    "\n",
    "import numpy as np\n",
    "import pandas as pd\n",
    "import matplotlib.pyplot as plt\n",
    "import seaborn as sns\n",
    "from sklearn.preprocessing import LabelEncoder\n",
    "le=LabelEncoder()\n",
    "from sklearn.model_selection import train_test_split\n",
    "from sklearn.preprocessing import StandardScaler\n",
    "from sklearn.linear_model import LinearRegression\n",
    "reg=LinearRegression()\n",
    "from sklearn import metrics\n",
    "from sklearn.linear_model import LogisticRegression\n",
    "classifier=LogisticRegression()\n",
    "from sklearn.metrics import confusion_matrix\n",
    "from sklearn.metrics import accuracy_score\n",
    "from sklearn.metrics import roc_auc_score\n",
    "from sklearn.metrics import classification_report\n",
    "from sklearn import svm\n",
    "from xgboost import XGBClassifier"
   ]
  },
  {
   "cell_type": "markdown",
   "id": "c7f33b4a",
   "metadata": {},
   "source": [
    "\n",
    "### Taking input from user"
   ]
  },
  {
   "cell_type": "markdown",
   "id": "e4cee57c",
   "metadata": {},
   "source": [
    "#### Connecting with google sheet"
   ]
  },
  {
   "cell_type": "code",
   "execution_count": 2,
   "id": "05eeef84",
   "metadata": {},
   "outputs": [],
   "source": [
    "gc = gspread.service_account(filename='nifty50-stock-price-prediction-39536132386e.json')\n",
    "Users_Sheet = gc.open(\"Users_Sheet\")\n",
    "\n",
    "\n",
    "\n",
    "from google.oauth2.service_account import Credentials\n",
    "scopes = [\n",
    "    'https://www.googleapis.com/auth/spreadsheets',\n",
    "    'https://www.googleapis.com/auth/drive'\n",
    "]\n",
    "credentials = Credentials.from_service_account_file(\n",
    "    'nifty50-stock-price-prediction-39536132386e.json',\n",
    "    scopes=scopes\n",
    ")\n",
    "gc = gspread.authorize(credentials)"
   ]
  },
  {
   "cell_type": "code",
   "execution_count": 3,
   "id": "69a8b688",
   "metadata": {},
   "outputs": [],
   "source": [
    "# to update in google sheet\n",
    "\n",
    "f_r = gc.open(\"Users_Sheet\").sheet1"
   ]
  },
  {
   "cell_type": "markdown",
   "id": "0741e2a5",
   "metadata": {},
   "source": [
    "### Calculating earned profit from historical data"
   ]
  },
  {
   "cell_type": "code",
   "execution_count": 4,
   "id": "98cabb59",
   "metadata": {},
   "outputs": [],
   "source": [
    "# making dataframe of users inputed data\n",
    "\n",
    "user_df = pd.DataFrame(Users_Sheet.sheet1.get('A1:D2'))"
   ]
  },
  {
   "cell_type": "code",
   "execution_count": 5,
   "id": "777c9997",
   "metadata": {},
   "outputs": [],
   "source": [
    "# converting first row to header\n",
    "\n",
    "new_header = user_df.iloc[0]\n",
    "user_df = user_df[1:]\n",
    "user_df.columns = new_header"
   ]
  },
  {
   "cell_type": "code",
   "execution_count": 6,
   "id": "bc319414",
   "metadata": {},
   "outputs": [],
   "source": [
    "# changing to suitable datatypes\n",
    "\n",
    "user_df['Buying Date'] =  pd.to_datetime(user_df['Buying Date'])\n",
    "user_df['Selling Date'] =  pd.to_datetime(user_df['Selling Date'])\n",
    "user_df['Quantity'] =  pd.to_numeric(user_df['Quantity'])"
   ]
  },
  {
   "cell_type": "code",
   "execution_count": 7,
   "id": "63ae653f",
   "metadata": {},
   "outputs": [
    {
     "name": "stdout",
     "output_type": "stream",
     "text": [
      "0 Stock Name  Quantity Buying Date Selling Date\n",
      "1  COALINDIA      1000  2022-10-27   2023-10-28\n"
     ]
    },
    {
     "data": {
      "text/plain": [
       "0\n",
       "Stock Name              object\n",
       "Quantity                 int64\n",
       "Buying Date     datetime64[ns]\n",
       "Selling Date    datetime64[ns]\n",
       "dtype: object"
      ]
     },
     "execution_count": 7,
     "metadata": {},
     "output_type": "execute_result"
    }
   ],
   "source": [
    "# checking the formates of inputed data\n",
    "\n",
    "print(user_df)\n",
    "user_df.dtypes"
   ]
  },
  {
   "cell_type": "code",
   "execution_count": 8,
   "id": "d337fa76",
   "metadata": {},
   "outputs": [],
   "source": [
    "# collecting single data values from user input dataframe\n",
    "\n",
    "Stock_Name = user_df['Stock Name'].iloc[0]\n",
    "Quantity = user_df['Quantity'].iloc[0]\n",
    "Buying_Date = user_df['Buying Date'].iloc[0]\n",
    "Selling_Date = user_df['Selling Date'].iloc[0]\n",
    "Buying_Date = str(Buying_Date)[:10]\n",
    "Selling_Date = str(Selling_Date)[:10]"
   ]
  },
  {
   "cell_type": "code",
   "execution_count": 9,
   "id": "10f89bce",
   "metadata": {},
   "outputs": [
    {
     "name": "stdout",
     "output_type": "stream",
     "text": [
      "COALINDIA 1000 2022-10-27 2023-10-28\n"
     ]
    }
   ],
   "source": [
    "# checking the collected data from user\n",
    "\n",
    "print(Stock_Name,Quantity,Buying_Date,Selling_Date)"
   ]
  },
  {
   "cell_type": "code",
   "execution_count": 10,
   "id": "6d26d139",
   "metadata": {},
   "outputs": [],
   "source": [
    "# collecting stock dataframe of given stock symbol\n",
    "\n",
    "# df = stock_df(symbol=Stock_Name, from_date=date(2019,1,1),to_date=date(2022,10,31), series=\"EQ\")\n",
    "df = stock_df(symbol=Stock_Name, from_date=date(2019,1,1),to_date=date.today(), series=\"EQ\")"
   ]
  },
  {
   "cell_type": "code",
   "execution_count": 11,
   "id": "b405d654",
   "metadata": {},
   "outputs": [],
   "source": [
    "# changing to suitable data type\n",
    "\n",
    "df = df.astype({'DATE':'string'})"
   ]
  },
  {
   "cell_type": "code",
   "execution_count": 12,
   "id": "d9e25812",
   "metadata": {},
   "outputs": [],
   "source": [
    "# taking average price of a day to calculate profit\n",
    "\n",
    "df['Day Price'] = (df['OPEN']+df['CLOSE'])/2"
   ]
  },
  {
   "cell_type": "markdown",
   "id": "4a5591dd",
   "metadata": {},
   "source": [
    "### Train a stock price prediction model for each stock."
   ]
  },
  {
   "cell_type": "code",
   "execution_count": 13,
   "id": "530f9da3",
   "metadata": {},
   "outputs": [
    {
     "data": {
      "text/html": [
       "<div>\n",
       "<style scoped>\n",
       "    .dataframe tbody tr th:only-of-type {\n",
       "        vertical-align: middle;\n",
       "    }\n",
       "\n",
       "    .dataframe tbody tr th {\n",
       "        vertical-align: top;\n",
       "    }\n",
       "\n",
       "    .dataframe thead th {\n",
       "        text-align: right;\n",
       "    }\n",
       "</style>\n",
       "<table border=\"1\" class=\"dataframe\">\n",
       "  <thead>\n",
       "    <tr style=\"text-align: right;\">\n",
       "      <th></th>\n",
       "      <th>DATE</th>\n",
       "      <th>OPEN</th>\n",
       "      <th>HIGH</th>\n",
       "      <th>LOW</th>\n",
       "      <th>CLOSE</th>\n",
       "      <th>VOLUME</th>\n",
       "      <th>Day Price</th>\n",
       "    </tr>\n",
       "  </thead>\n",
       "  <tbody>\n",
       "    <tr>\n",
       "      <th>0</th>\n",
       "      <td>2022-11-04</td>\n",
       "      <td>246.7</td>\n",
       "      <td>248.7</td>\n",
       "      <td>245.5</td>\n",
       "      <td>246.05</td>\n",
       "      <td>5511411</td>\n",
       "      <td>246.375</td>\n",
       "    </tr>\n",
       "    <tr>\n",
       "      <th>1</th>\n",
       "      <td>2022-11-03</td>\n",
       "      <td>244.0</td>\n",
       "      <td>247.6</td>\n",
       "      <td>241.0</td>\n",
       "      <td>246.20</td>\n",
       "      <td>6754654</td>\n",
       "      <td>245.100</td>\n",
       "    </tr>\n",
       "  </tbody>\n",
       "</table>\n",
       "</div>"
      ],
      "text/plain": [
       "         DATE   OPEN   HIGH    LOW   CLOSE   VOLUME  Day Price\n",
       "0  2022-11-04  246.7  248.7  245.5  246.05  5511411    246.375\n",
       "1  2022-11-03  244.0  247.6  241.0  246.20  6754654    245.100"
      ]
     },
     "execution_count": 13,
     "metadata": {},
     "output_type": "execute_result"
    }
   ],
   "source": [
    "df2 = df[['DATE','OPEN','HIGH','LOW','CLOSE','VOLUME','Day Price']]\n",
    "df2.head(2)"
   ]
  },
  {
   "cell_type": "code",
   "execution_count": 14,
   "id": "afc2d810",
   "metadata": {},
   "outputs": [
    {
     "data": {
      "text/html": [
       "<div>\n",
       "<style scoped>\n",
       "    .dataframe tbody tr th:only-of-type {\n",
       "        vertical-align: middle;\n",
       "    }\n",
       "\n",
       "    .dataframe tbody tr th {\n",
       "        vertical-align: top;\n",
       "    }\n",
       "\n",
       "    .dataframe thead th {\n",
       "        text-align: right;\n",
       "    }\n",
       "</style>\n",
       "<table border=\"1\" class=\"dataframe\">\n",
       "  <thead>\n",
       "    <tr style=\"text-align: right;\">\n",
       "      <th></th>\n",
       "      <th>DATE</th>\n",
       "      <th>OPEN</th>\n",
       "      <th>HIGH</th>\n",
       "      <th>LOW</th>\n",
       "      <th>CLOSE</th>\n",
       "      <th>VOLUME</th>\n",
       "      <th>Day Price</th>\n",
       "      <th>MONTH</th>\n",
       "      <th>YEAR</th>\n",
       "      <th>DAY</th>\n",
       "    </tr>\n",
       "  </thead>\n",
       "  <tbody>\n",
       "    <tr>\n",
       "      <th>0</th>\n",
       "      <td>2022-11-04</td>\n",
       "      <td>246.70</td>\n",
       "      <td>248.7</td>\n",
       "      <td>245.50</td>\n",
       "      <td>246.05</td>\n",
       "      <td>5511411</td>\n",
       "      <td>246.375</td>\n",
       "      <td>11</td>\n",
       "      <td>2022</td>\n",
       "      <td>4</td>\n",
       "    </tr>\n",
       "    <tr>\n",
       "      <th>1</th>\n",
       "      <td>2022-11-03</td>\n",
       "      <td>244.00</td>\n",
       "      <td>247.6</td>\n",
       "      <td>241.00</td>\n",
       "      <td>246.20</td>\n",
       "      <td>6754654</td>\n",
       "      <td>245.100</td>\n",
       "      <td>11</td>\n",
       "      <td>2022</td>\n",
       "      <td>3</td>\n",
       "    </tr>\n",
       "    <tr>\n",
       "      <th>2</th>\n",
       "      <td>2022-11-02</td>\n",
       "      <td>245.65</td>\n",
       "      <td>249.6</td>\n",
       "      <td>242.15</td>\n",
       "      <td>245.80</td>\n",
       "      <td>14974441</td>\n",
       "      <td>245.725</td>\n",
       "      <td>11</td>\n",
       "      <td>2022</td>\n",
       "      <td>2</td>\n",
       "    </tr>\n",
       "    <tr>\n",
       "      <th>3</th>\n",
       "      <td>2022-11-01</td>\n",
       "      <td>247.00</td>\n",
       "      <td>247.0</td>\n",
       "      <td>243.25</td>\n",
       "      <td>245.65</td>\n",
       "      <td>8813106</td>\n",
       "      <td>246.325</td>\n",
       "      <td>11</td>\n",
       "      <td>2022</td>\n",
       "      <td>1</td>\n",
       "    </tr>\n",
       "    <tr>\n",
       "      <th>4</th>\n",
       "      <td>2022-10-31</td>\n",
       "      <td>246.00</td>\n",
       "      <td>247.5</td>\n",
       "      <td>243.55</td>\n",
       "      <td>245.95</td>\n",
       "      <td>8365329</td>\n",
       "      <td>245.975</td>\n",
       "      <td>10</td>\n",
       "      <td>2022</td>\n",
       "      <td>31</td>\n",
       "    </tr>\n",
       "  </tbody>\n",
       "</table>\n",
       "</div>"
      ],
      "text/plain": [
       "         DATE    OPEN   HIGH     LOW   CLOSE    VOLUME  Day Price  MONTH  \\\n",
       "0  2022-11-04  246.70  248.7  245.50  246.05   5511411    246.375     11   \n",
       "1  2022-11-03  244.00  247.6  241.00  246.20   6754654    245.100     11   \n",
       "2  2022-11-02  245.65  249.6  242.15  245.80  14974441    245.725     11   \n",
       "3  2022-11-01  247.00  247.0  243.25  245.65   8813106    246.325     11   \n",
       "4  2022-10-31  246.00  247.5  243.55  245.95   8365329    245.975     10   \n",
       "\n",
       "   YEAR  DAY  \n",
       "0  2022    4  \n",
       "1  2022    3  \n",
       "2  2022    2  \n",
       "3  2022    1  \n",
       "4  2022   31  "
      ]
     },
     "execution_count": 14,
     "metadata": {},
     "output_type": "execute_result"
    }
   ],
   "source": [
    "splitted = df2['DATE'].str.split('-', expand=True)\n",
    " \n",
    "df2['MONTH'] = splitted[1].astype('int')\n",
    "df2['YEAR'] = splitted[0].astype('int')\n",
    "df2['DAY'] = splitted[2].astype('int')\n",
    " \n",
    "df2.head()"
   ]
  },
  {
   "cell_type": "code",
   "execution_count": 15,
   "id": "2be0052c",
   "metadata": {},
   "outputs": [
    {
     "data": {
      "text/html": [
       "<div>\n",
       "<style scoped>\n",
       "    .dataframe tbody tr th:only-of-type {\n",
       "        vertical-align: middle;\n",
       "    }\n",
       "\n",
       "    .dataframe tbody tr th {\n",
       "        vertical-align: top;\n",
       "    }\n",
       "\n",
       "    .dataframe thead th {\n",
       "        text-align: right;\n",
       "    }\n",
       "</style>\n",
       "<table border=\"1\" class=\"dataframe\">\n",
       "  <thead>\n",
       "    <tr style=\"text-align: right;\">\n",
       "      <th></th>\n",
       "      <th>Day Price</th>\n",
       "      <th>MONTH</th>\n",
       "      <th>YEAR</th>\n",
       "      <th>DAY</th>\n",
       "    </tr>\n",
       "  </thead>\n",
       "  <tbody>\n",
       "    <tr>\n",
       "      <th>0</th>\n",
       "      <td>246.375</td>\n",
       "      <td>11</td>\n",
       "      <td>2022</td>\n",
       "      <td>4</td>\n",
       "    </tr>\n",
       "    <tr>\n",
       "      <th>1</th>\n",
       "      <td>245.100</td>\n",
       "      <td>11</td>\n",
       "      <td>2022</td>\n",
       "      <td>3</td>\n",
       "    </tr>\n",
       "    <tr>\n",
       "      <th>2</th>\n",
       "      <td>245.725</td>\n",
       "      <td>11</td>\n",
       "      <td>2022</td>\n",
       "      <td>2</td>\n",
       "    </tr>\n",
       "    <tr>\n",
       "      <th>3</th>\n",
       "      <td>246.325</td>\n",
       "      <td>11</td>\n",
       "      <td>2022</td>\n",
       "      <td>1</td>\n",
       "    </tr>\n",
       "    <tr>\n",
       "      <th>4</th>\n",
       "      <td>245.975</td>\n",
       "      <td>10</td>\n",
       "      <td>2022</td>\n",
       "      <td>31</td>\n",
       "    </tr>\n",
       "  </tbody>\n",
       "</table>\n",
       "</div>"
      ],
      "text/plain": [
       "   Day Price  MONTH  YEAR  DAY\n",
       "0    246.375     11  2022    4\n",
       "1    245.100     11  2022    3\n",
       "2    245.725     11  2022    2\n",
       "3    246.325     11  2022    1\n",
       "4    245.975     10  2022   31"
      ]
     },
     "execution_count": 15,
     "metadata": {},
     "output_type": "execute_result"
    }
   ],
   "source": [
    "df2 = df2.drop(['DATE','OPEN','HIGH','LOW','CLOSE','VOLUME'],axis=1)\n",
    "df2.head()"
   ]
  },
  {
   "cell_type": "markdown",
   "id": "9d88ec86",
   "metadata": {},
   "source": [
    "### Extract the independent and dependent variables"
   ]
  },
  {
   "cell_type": "code",
   "execution_count": 16,
   "id": "58dabf05",
   "metadata": {},
   "outputs": [],
   "source": [
    "X=df2.iloc[:,1:].values\n",
    "Y=df2.iloc[:,-4].values"
   ]
  },
  {
   "cell_type": "code",
   "execution_count": 17,
   "id": "91bec7e9",
   "metadata": {},
   "outputs": [],
   "source": [
    "from sklearn.model_selection import train_test_split"
   ]
  },
  {
   "cell_type": "code",
   "execution_count": 18,
   "id": "d85eb65a",
   "metadata": {},
   "outputs": [],
   "source": [
    "X_train, X_test, Y_train, Y_test=train_test_split(X,Y,test_size=0.3,random_state=4)"
   ]
  },
  {
   "cell_type": "code",
   "execution_count": 19,
   "id": "fbd85836",
   "metadata": {},
   "outputs": [
    {
     "data": {
      "text/html": [
       "<style>#sk-container-id-1 {color: black;background-color: white;}#sk-container-id-1 pre{padding: 0;}#sk-container-id-1 div.sk-toggleable {background-color: white;}#sk-container-id-1 label.sk-toggleable__label {cursor: pointer;display: block;width: 100%;margin-bottom: 0;padding: 0.3em;box-sizing: border-box;text-align: center;}#sk-container-id-1 label.sk-toggleable__label-arrow:before {content: \"▸\";float: left;margin-right: 0.25em;color: #696969;}#sk-container-id-1 label.sk-toggleable__label-arrow:hover:before {color: black;}#sk-container-id-1 div.sk-estimator:hover label.sk-toggleable__label-arrow:before {color: black;}#sk-container-id-1 div.sk-toggleable__content {max-height: 0;max-width: 0;overflow: hidden;text-align: left;background-color: #f0f8ff;}#sk-container-id-1 div.sk-toggleable__content pre {margin: 0.2em;color: black;border-radius: 0.25em;background-color: #f0f8ff;}#sk-container-id-1 input.sk-toggleable__control:checked~div.sk-toggleable__content {max-height: 200px;max-width: 100%;overflow: auto;}#sk-container-id-1 input.sk-toggleable__control:checked~label.sk-toggleable__label-arrow:before {content: \"▾\";}#sk-container-id-1 div.sk-estimator input.sk-toggleable__control:checked~label.sk-toggleable__label {background-color: #d4ebff;}#sk-container-id-1 div.sk-label input.sk-toggleable__control:checked~label.sk-toggleable__label {background-color: #d4ebff;}#sk-container-id-1 input.sk-hidden--visually {border: 0;clip: rect(1px 1px 1px 1px);clip: rect(1px, 1px, 1px, 1px);height: 1px;margin: -1px;overflow: hidden;padding: 0;position: absolute;width: 1px;}#sk-container-id-1 div.sk-estimator {font-family: monospace;background-color: #f0f8ff;border: 1px dotted black;border-radius: 0.25em;box-sizing: border-box;margin-bottom: 0.5em;}#sk-container-id-1 div.sk-estimator:hover {background-color: #d4ebff;}#sk-container-id-1 div.sk-parallel-item::after {content: \"\";width: 100%;border-bottom: 1px solid gray;flex-grow: 1;}#sk-container-id-1 div.sk-label:hover label.sk-toggleable__label {background-color: #d4ebff;}#sk-container-id-1 div.sk-serial::before {content: \"\";position: absolute;border-left: 1px solid gray;box-sizing: border-box;top: 0;bottom: 0;left: 50%;z-index: 0;}#sk-container-id-1 div.sk-serial {display: flex;flex-direction: column;align-items: center;background-color: white;padding-right: 0.2em;padding-left: 0.2em;position: relative;}#sk-container-id-1 div.sk-item {position: relative;z-index: 1;}#sk-container-id-1 div.sk-parallel {display: flex;align-items: stretch;justify-content: center;background-color: white;position: relative;}#sk-container-id-1 div.sk-item::before, #sk-container-id-1 div.sk-parallel-item::before {content: \"\";position: absolute;border-left: 1px solid gray;box-sizing: border-box;top: 0;bottom: 0;left: 50%;z-index: -1;}#sk-container-id-1 div.sk-parallel-item {display: flex;flex-direction: column;z-index: 1;position: relative;background-color: white;}#sk-container-id-1 div.sk-parallel-item:first-child::after {align-self: flex-end;width: 50%;}#sk-container-id-1 div.sk-parallel-item:last-child::after {align-self: flex-start;width: 50%;}#sk-container-id-1 div.sk-parallel-item:only-child::after {width: 0;}#sk-container-id-1 div.sk-dashed-wrapped {border: 1px dashed gray;margin: 0 0.4em 0.5em 0.4em;box-sizing: border-box;padding-bottom: 0.4em;background-color: white;}#sk-container-id-1 div.sk-label label {font-family: monospace;font-weight: bold;display: inline-block;line-height: 1.2em;}#sk-container-id-1 div.sk-label-container {text-align: center;}#sk-container-id-1 div.sk-container {/* jupyter's `normalize.less` sets `[hidden] { display: none; }` but bootstrap.min.css set `[hidden] { display: none !important; }` so we also need the `!important` here to be able to override the default hidden behavior on the sphinx rendered scikit-learn.org. See: https://github.com/scikit-learn/scikit-learn/issues/21755 */display: inline-block !important;position: relative;}#sk-container-id-1 div.sk-text-repr-fallback {display: none;}</style><div id=\"sk-container-id-1\" class=\"sk-top-container\"><div class=\"sk-text-repr-fallback\"><pre>LinearRegression()</pre><b>In a Jupyter environment, please rerun this cell to show the HTML representation or trust the notebook. <br />On GitHub, the HTML representation is unable to render, please try loading this page with nbviewer.org.</b></div><div class=\"sk-container\" hidden><div class=\"sk-item\"><div class=\"sk-estimator sk-toggleable\"><input class=\"sk-toggleable__control sk-hidden--visually\" id=\"sk-estimator-id-1\" type=\"checkbox\" checked><label for=\"sk-estimator-id-1\" class=\"sk-toggleable__label sk-toggleable__label-arrow\">LinearRegression</label><div class=\"sk-toggleable__content\"><pre>LinearRegression()</pre></div></div></div></div></div>"
      ],
      "text/plain": [
       "LinearRegression()"
      ]
     },
     "execution_count": 19,
     "metadata": {},
     "output_type": "execute_result"
    }
   ],
   "source": [
    "reg.fit(X_train, Y_train)"
   ]
  },
  {
   "cell_type": "code",
   "execution_count": 20,
   "id": "670a547e",
   "metadata": {},
   "outputs": [],
   "source": [
    "features = np.array([[int(Buying_Date[5:7]),int(Buying_Date[:4]),int(Buying_Date[-2:])]])\n",
    "PBP = reg.predict(features)\n",
    "features = np.array([[int(Selling_Date[5:7]),int(Selling_Date[:4]),int(Selling_Date[-2:])]])\n",
    "PSP = reg.predict(features)"
   ]
  },
  {
   "cell_type": "markdown",
   "id": "1ccbc044",
   "metadata": {},
   "source": [
    "### Evaluate the model using MSE, RMSE and R square"
   ]
  },
  {
   "cell_type": "code",
   "execution_count": 21,
   "id": "85c61f25",
   "metadata": {},
   "outputs": [],
   "source": [
    "Y_pred=reg.predict(X_test)"
   ]
  },
  {
   "cell_type": "code",
   "execution_count": 22,
   "id": "60c0ad71",
   "metadata": {},
   "outputs": [],
   "source": [
    "MSE=metrics.mean_squared_error(Y_test, Y_pred)"
   ]
  },
  {
   "cell_type": "code",
   "execution_count": 23,
   "id": "3df74996",
   "metadata": {},
   "outputs": [
    {
     "data": {
      "text/plain": [
       "43.74997237386539"
      ]
     },
     "execution_count": 23,
     "metadata": {},
     "output_type": "execute_result"
    }
   ],
   "source": [
    "RMSE=np.sqrt(MSE)\n",
    "RMSE"
   ]
  },
  {
   "cell_type": "code",
   "execution_count": 24,
   "id": "4db15be5",
   "metadata": {},
   "outputs": [
    {
     "data": {
      "text/plain": [
       "0.05199445731805985"
      ]
     },
     "execution_count": 24,
     "metadata": {},
     "output_type": "execute_result"
    }
   ],
   "source": [
    "R2=metrics.r2_score(Y_test,Y_pred)\n",
    "R2"
   ]
  },
  {
   "cell_type": "code",
   "execution_count": 25,
   "id": "c4d2c0f7",
   "metadata": {},
   "outputs": [],
   "source": [
    "if user_df['Buying Date'].iloc[0] < date.today():\n",
    "    Buy_price = df[df['DATE']==Buying_Date]['Day Price'].iloc[0]\n",
    "else:\n",
    "    Buy_price = PBP[0]\n",
    "    \n",
    "if user_df['Selling Date'].iloc[0] < date.today():\n",
    "    Sale_price = df[df['DATE']==Selling_Date]['Day Price'].iloc[0]\n",
    "else:\n",
    "    Sale_price = PSP[0]"
   ]
  },
  {
   "cell_type": "code",
   "execution_count": 26,
   "id": "e57ea61a",
   "metadata": {},
   "outputs": [
    {
     "data": {
      "text/plain": [
       "{'spreadsheetId': '1PWgtWZH8Ln6Ed3XHrCROlStmmDm_0OdwiUjqnNhAGA4',\n",
       " 'updatedRange': 'Sheet1!I4',\n",
       " 'updatedRows': 1,\n",
       " 'updatedColumns': 1,\n",
       " 'updatedCells': 1}"
      ]
     },
     "execution_count": 26,
     "metadata": {},
     "output_type": "execute_result"
    }
   ],
   "source": [
    "# updating the buying price, selling price and profit to google sheet\n",
    "\n",
    "f_r.update_cell(1,9,Buy_price)\n",
    "f_r.update_cell(2,9,Sale_price)\n",
    "f_r.update_cell(3,9,PBP[0])\n",
    "f_r.update_cell(4,9,PSP[0])"
   ]
  },
  {
   "cell_type": "code",
   "execution_count": null,
   "id": "f36f3669",
   "metadata": {},
   "outputs": [],
   "source": []
  }
 ],
 "metadata": {
  "kernelspec": {
   "display_name": "Python 3 (ipykernel)",
   "language": "python",
   "name": "python3"
  },
  "language_info": {
   "codemirror_mode": {
    "name": "ipython",
    "version": 3
   },
   "file_extension": ".py",
   "mimetype": "text/x-python",
   "name": "python",
   "nbconvert_exporter": "python",
   "pygments_lexer": "ipython3",
   "version": "3.10.6"
  }
 },
 "nbformat": 4,
 "nbformat_minor": 5
}
